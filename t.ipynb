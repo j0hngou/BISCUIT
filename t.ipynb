{
 "cells": [
  {
   "cell_type": "code",
   "execution_count": 7,
   "metadata": {},
   "outputs": [],
   "source": [
    "import os\n",
    "import argparse\n",
    "import json\n",
    "import torch\n",
    "import torch.utils.data as data\n",
    "import pytorch_lightning as pl \n",
    "from pytorch_lightning.callbacks import ModelCheckpoint\n",
    "from shutil import copyfile\n",
    "import numpy as np\n",
    "\n",
    "import sys\n",
    "sys.path.append('../')\n",
    "from experiments.datasets import VoronoiDataset, CausalWorldDataset, iTHORDataset\n",
    "\n",
    "data_dir = '/home/john/PhD/BISCUIT/data_generation/data/ithor/train/'\n",
    "data = np.load(data_dir + 'train_seq_3293867794.npz')"
   ]
  },
  {
   "cell_type": "code",
   "execution_count": 16,
   "metadata": {},
   "outputs": [
    {
     "data": {
      "text/plain": [
       "array(['NoOp NoObject3', 'NoOp NoObject3', 'OpenObject Microwave',\n",
       "       'ToggleObject Toaster', 'OpenObject Cabinet_47fc321b',\n",
       "       'ToggleObject StoveKnob_38c1dbc2',\n",
       "       'ToggleObject StoveKnob_38c1dbc2', 'PickupObject Plate',\n",
       "       'PutObject CounterTop_f8092513', 'PickupObject Plate',\n",
       "       'OpenObject Microwave', 'PutObject CounterTop_f8092513',\n",
       "       'OpenObject Cabinet_47fc321b', 'PickupObject Egg',\n",
       "       'ToggleObject StoveKnob_c8955f66', 'MoveObject Plate',\n",
       "       'ToggleObject Microwave', 'PutObject CounterTop_f8092513',\n",
       "       'PickupObject Plate', 'PutObject CounterTop_f8092513',\n",
       "       'OpenObject Cabinet_47fc321b', 'ToggleObject StoveKnob_690d0d5d',\n",
       "       'NoOp NoObject2', 'NoOp NoObject1',\n",
       "       'ToggleObject StoveKnob_690d0d5d', 'PickupObject Plate',\n",
       "       'PutObject CounterTop_f8092513', 'OpenObject Cabinet_47fc321b',\n",
       "       'PickupObject Egg', 'MoveObject Plate',\n",
       "       'PutObject CounterTop_f8092513', 'ToggleObject StoveKnob_c8955f66',\n",
       "       'PickupObject Plate', 'PutObject CounterTop_f8092513',\n",
       "       'NoOp NoObject1', 'ToggleObject StoveKnob_c8955f66',\n",
       "       'NoOp NoObject3', 'NoOp NoObject2', 'OpenObject Cabinet_47fc321b',\n",
       "       'NoOp NoObject3', 'ToggleObject StoveKnob_690d0d5d',\n",
       "       'PickupObject Egg', 'MoveObject Plate', 'PutObject Pan',\n",
       "       'NoOp NoObject2', 'NoOp NoObject1', 'ToggleObject Microwave',\n",
       "       'PickupObject Plate', 'NoOp NoObject1', 'ToggleObject Toaster',\n",
       "       'PutObject CounterTop_f8092513', 'ToggleObject StoveKnob_38c1dbc2',\n",
       "       'OpenObject Microwave', 'ToggleObject StoveKnob_38c1dbc2',\n",
       "       'NoOp NoObject3', 'NoOp NoObject2', 'ToggleObject Toaster',\n",
       "       'NoOp NoObject1', 'ToggleObject Toaster',\n",
       "       'OpenObject Cabinet_47fc321b', 'NoOp NoObject3',\n",
       "       'ToggleObject StoveKnob_c8955f66', 'OpenObject Cabinet_47fc321b',\n",
       "       'OpenObject Cabinet_47fc321b', 'NoOp NoObject3',\n",
       "       'ToggleObject StoveKnob_cf670576', 'PickupObject Plate',\n",
       "       'PutObject Microwave', 'PickupObject Plate',\n",
       "       'ToggleObject Toaster', 'PutObject Microwave',\n",
       "       'OpenObject Microwave', 'NoOp NoObject2',\n",
       "       'OpenObject Cabinet_47fc321b', 'OpenObject Cabinet_47fc321b',\n",
       "       'OpenObject Microwave', 'ToggleObject Toaster',\n",
       "       'ToggleObject StoveKnob_38c1dbc2', 'OpenObject Cabinet_47fc321b',\n",
       "       'OpenObject Cabinet_47fc321b', 'PickupObject Plate',\n",
       "       'ToggleObject StoveKnob_690d0d5d', 'NoOp NoObject1',\n",
       "       'OpenObject Cabinet_47fc321b', 'NoOp NoObject1',\n",
       "       'PutObject CounterTop_f8092513', 'OpenObject Cabinet_47fc321b',\n",
       "       'PickupObject Plate', 'NoOp NoObject1',\n",
       "       'ToggleObject StoveKnob_690d0d5d', 'NoOp NoObject3',\n",
       "       'ToggleObject StoveKnob_690d0d5d',\n",
       "       'ToggleObject StoveKnob_38c1dbc2', 'PutObject Microwave',\n",
       "       'PickupObject Plate', 'PutObject CounterTop_f8092513',\n",
       "       'NoOp NoObject1', 'OpenObject Microwave',\n",
       "       'ToggleObject StoveKnob_cf670576'], dtype='<U31')"
      ]
     },
     "execution_count": 16,
     "metadata": {},
     "output_type": "execute_result"
    }
   ],
   "source": [
    "data['collected_descriptions']"
   ]
  },
  {
   "cell_type": "code",
   "execution_count": 1,
   "metadata": {},
   "outputs": [],
   "source": [
    "def get_default_parser():\n",
    "    parser = argparse.ArgumentParser()\n",
    "    parser.add_argument('--data_dir', type=str, default='/home/john/Sync/BISCUIT/data/ithor_subsampled/')\n",
    "    parser.add_argument('--cluster', action=\"store_true\")\n",
    "    parser.add_argument('--seed', type=int, default=42)\n",
    "    parser.add_argument('--max_epochs', type=int, default=200)\n",
    "    parser.add_argument('--debug', action='store_true')\n",
    "    parser.add_argument('--offline', action='store_true')\n",
    "    parser.add_argument('--batch_size', type=int, default=128)\n",
    "    parser.add_argument('--num_workers', type=int, default=4)\n",
    "    parser.add_argument('--data_img_width', type=int, default=-1)\n",
    "    parser.add_argument('--seq_len', type=int, default=2)\n",
    "    parser.add_argument('--lr', type=float, default=1e-3)\n",
    "    parser.add_argument('--warmup', type=int, default=100)\n",
    "    parser.add_argument('--check_val_every_n_epoch', type=int, default=-1)\n",
    "    parser.add_argument('--logger_name', type=str, default='')\n",
    "    parser.add_argument('--files_to_save', type=str, nargs='+', default='')\n",
    "    parser.add_argument('--compile', action='store_true')\n",
    "    return parser\n",
    "\n",
    "def load_datasets(args):\n",
    "    pl.seed_everything(args.seed)\n",
    "    print('Loading datasets...')\n",
    "    if 'voronoi' in args.data_dir:\n",
    "        data_name = 'voronoi' + args.data_dir.split('voronoi')[-1].replace('/','')\n",
    "        DataClass = VoronoiDataset\n",
    "        dataset_args = {'return_targets': False, 'return_robot_state': True}\n",
    "    elif 'causal_world' in args.data_dir:\n",
    "        data_name = 'causalworld' + args.data_dir.split('causal_world')[-1].replace('/','')\n",
    "        DataClass = CausalWorldDataset\n",
    "        dataset_args = {'downsample_images': True}\n",
    "    elif 'ithor' in args.data_dir:\n",
    "        data_name = 'ithor' + args.data_dir.split('ithor')[-1].replace('/','')\n",
    "        DataClass = iTHORDataset\n",
    "        dataset_args = {}\n",
    "    else:\n",
    "        assert False, f'Unknown data class for {args.data_dir}'\n",
    "    if hasattr(args, 'try_encodings'):\n",
    "        dataset_args['try_encodings'] = args.try_encodings\n",
    "    train_dataset = DataClass(\n",
    "        data_folder=args.data_dir, split='train', single_image=False, triplet=False, seq_len=args.seq_len, cluster=args.cluster, return_text=True, **dataset_args)\n",
    "    val_dataset = DataClass(\n",
    "        data_folder=args.data_dir, split='val_indep', single_image=True, triplet=False, return_latents=True, cluster=args.cluster, return_text=True, **dataset_args)\n",
    "    val_seq_dataset = DataClass(\n",
    "        data_folder=args.data_dir, split='val', single_image=False, triplet=False, seq_len=args.seq_len, cluster=args.cluster, return_text=True, **dataset_args)\n",
    "    test_dataset = DataClass(\n",
    "        data_folder=args.data_dir, split='test_indep', single_image=True, triplet=False, return_latents=True, cluster=args.cluster, return_text=True, **dataset_args)\n",
    "    test_seq_dataset = DataClass(\n",
    "        data_folder=args.data_dir, split='test', single_image=False, triplet=False, seq_len=args.seq_len, cluster=args.cluster, return_text=True, **dataset_args)\n",
    "    train_loader = data.DataLoader(train_dataset, batch_size=args.batch_size,\n",
    "                                   shuffle=True, pin_memory=True, drop_last=True, num_workers=args.num_workers)\n",
    "    val_seq_loader = data.DataLoader(val_seq_dataset, batch_size=args.batch_size,\n",
    "                                  shuffle=False, drop_last=False, num_workers=args.num_workers)\n",
    "    test_seq_loader = data.DataLoader(test_seq_dataset, batch_size=args.batch_size,\n",
    "                                  shuffle=False, drop_last=False, num_workers=args.num_workers)\n",
    "\n",
    "    print(f'Training dataset size: {len(train_dataset)} / {len(train_loader)}')\n",
    "    print(f'Val sequence dataset size: {len(val_seq_dataset)} / {len(val_seq_loader)}')\n",
    "    if isinstance(val_dataset, dict):\n",
    "        print(f'Val correlation dataset sizes: { {key: len(val_dataset[key]) for key in val_dataset} }')\n",
    "    else:\n",
    "        print(f'Val correlation dataset size: {len(val_dataset)}')\n",
    "    print(f'Test sequence dataset size: {len(test_seq_dataset)} / {len(test_seq_loader)}')\n",
    "    if isinstance(test_dataset, dict):\n",
    "        print(f'Test correlation dataset sizes: { {key: len(test_dataset[key]) for key in test_dataset} }')\n",
    "    else:\n",
    "        print(f'Test correlation dataset size: {len(test_dataset)}')\n",
    "\n",
    "    datasets = {\n",
    "        'train': train_dataset,\n",
    "        'val': val_dataset,\n",
    "        'val_seq': val_seq_dataset,\n",
    "        'test': test_dataset,\n",
    "        'test_seq': test_seq_dataset\n",
    "    }\n",
    "    data_loaders = {\n",
    "        'train': train_loader,\n",
    "        'val_seq': val_seq_loader,\n",
    "        'test_seq': test_seq_loader\n",
    "    }\n",
    "\n",
    "    if hasattr(datasets['train'], 'action_size'):\n",
    "        for key in ['return_robot_state', 'return_targets']:\n",
    "            if key in dataset_args:\n",
    "                dataset_args.pop(key)\n",
    "        action_dataset = DataClass(data_folder=args.data_dir,\n",
    "                                   split='val',\n",
    "                                   return_robot_state=True,\n",
    "                                   triplet=False,\n",
    "                                   return_targets=True,\n",
    "                                   **dataset_args\n",
    "                                   )\n",
    "        action_loader = data.DataLoader(action_dataset,\n",
    "                                        batch_size=args.batch_size,\n",
    "                                        shuffle=False)\n",
    "        datasets['action'] = action_dataset\n",
    "        data_loaders['action'] = action_loader\n",
    "\n",
    "    return datasets, data_loaders, data_name"
   ]
  },
  {
   "cell_type": "code",
   "execution_count": 9,
   "metadata": {},
   "outputs": [
    {
     "name": "stderr",
     "output_type": "stream",
     "text": [
      "Global seed set to 42\n"
     ]
    },
    {
     "name": "stdout",
     "output_type": "stream",
     "text": [
      "Loading datasets...\n"
     ]
    },
    {
     "data": {
      "application/vnd.jupyter.widget-view+json": {
       "model_id": "5d4ae3b426804922ab987e0e11b9f824",
       "version_major": 2,
       "version_minor": 0
      },
      "text/plain": [
       "Loading sequences of train:   0%|          | 0/150 [00:00<?, ?it/s]"
      ]
     },
     "metadata": {},
     "output_type": "display_data"
    },
    {
     "name": "stdout",
     "output_type": "stream",
     "text": [
      "WARNING: Skipping /home/john/Sync/BISCUIT/data/ithor_subsampled/train/train_seq_3293868279.npz because of inconsistent latent size!\n",
      "WARNING: Skipping /home/john/Sync/BISCUIT/data/ithor_subsampled/train/train_seq_3293868504.npz because of inconsistent latent size!\n",
      "WARNING: Skipping /home/john/Sync/BISCUIT/data/ithor_subsampled/train/train_seq_3293869153.npz because of inconsistent latent size!\n",
      "WARNING: Latent Egg_afaaaca3_center_x out of bounds!\n",
      "tensor(-1.8750) tensor(0.6250)\n",
      "Ignoring for now...\n",
      "WARNING: Latent Egg_afaaaca3_center_y out of bounds!\n",
      "tensor(-2.8000) tensor(0.2003)\n",
      "Ignoring for now...\n",
      "WARNING: Latent Egg_afaaaca3_center_z out of bounds!\n",
      "tensor(-0.8312) tensor(1.6000)\n",
      "Ignoring for now...\n",
      "WARNING: Latent Plate_49b95a7a_center_x out of bounds!\n",
      "tensor(-2.1429) tensor(0.7949)\n",
      "Ignoring for now...\n",
      "WARNING: Latent Plate_49b95a7a_center_y out of bounds!\n",
      "tensor(-2.8000) tensor(0.7834)\n",
      "Ignoring for now...\n",
      "WARNING: Latent Plate_49b95a7a_center_z out of bounds!\n",
      "tensor(-0.8889) tensor(1.6667)\n",
      "Ignoring for now...\n"
     ]
    },
    {
     "data": {
      "application/vnd.jupyter.widget-view+json": {
       "model_id": "ec6821299e9342b8950397186f16948d",
       "version_major": 2,
       "version_minor": 0
      },
      "text/plain": [
       "Loading sequences of val_indep:   0%|          | 0/15 [00:00<?, ?it/s]"
      ]
     },
     "metadata": {},
     "output_type": "display_data"
    },
    {
     "data": {
      "application/vnd.jupyter.widget-view+json": {
       "model_id": "a9166463d06f428c98af8a077b580069",
       "version_major": 2,
       "version_minor": 0
      },
      "text/plain": [
       "Loading sequences of val:   0%|          | 0/30 [00:00<?, ?it/s]"
      ]
     },
     "metadata": {},
     "output_type": "display_data"
    },
    {
     "name": "stdout",
     "output_type": "stream",
     "text": [
      "WARNING: Skipping /home/john/Sync/BISCUIT/data/ithor_subsampled/val/val_seq_1606868915.npz because of inconsistent latent size!\n",
      "WARNING: Skipping /home/john/Sync/BISCUIT/data/ithor_subsampled/val/val_seq_1606868959.npz because of inconsistent latent size!\n",
      "WARNING: Skipping /home/john/Sync/BISCUIT/data/ithor_subsampled/val/val_seq_1606868968.npz because of inconsistent latent size!\n",
      "WARNING: Skipping /home/john/Sync/BISCUIT/data/ithor_subsampled/val/val_seq_1606869051.npz because of inconsistent latent size!\n",
      "WARNING: Latent Egg_afaaaca3_center_x out of bounds!\n",
      "tensor(-1.8750) tensor(0.6250)\n",
      "Ignoring for now...\n",
      "WARNING: Latent Egg_afaaaca3_center_y out of bounds!\n",
      "tensor(-2.8000) tensor(0.2003)\n",
      "Ignoring for now...\n",
      "WARNING: Latent Egg_afaaaca3_center_z out of bounds!\n",
      "tensor(-0.8312) tensor(1.6000)\n",
      "Ignoring for now...\n",
      "WARNING: Latent Plate_49b95a7a_center_x out of bounds!\n",
      "tensor(-2.1429) tensor(0.7949)\n",
      "Ignoring for now...\n",
      "WARNING: Latent Plate_49b95a7a_center_y out of bounds!\n",
      "tensor(-2.8000) tensor(0.7833)\n",
      "Ignoring for now...\n",
      "WARNING: Latent Plate_49b95a7a_center_z out of bounds!\n",
      "tensor(-0.8889) tensor(1.6667)\n",
      "Ignoring for now...\n"
     ]
    },
    {
     "data": {
      "application/vnd.jupyter.widget-view+json": {
       "model_id": "062eb3c2dc9d479081b6cb61563f52cc",
       "version_major": 2,
       "version_minor": 0
      },
      "text/plain": [
       "Loading sequences of test_indep:   0%|          | 0/15 [00:00<?, ?it/s]"
      ]
     },
     "metadata": {},
     "output_type": "display_data"
    },
    {
     "data": {
      "application/vnd.jupyter.widget-view+json": {
       "model_id": "d9e80c9b10104f31ace895b7fb589539",
       "version_major": 2,
       "version_minor": 0
      },
      "text/plain": [
       "Loading sequences of test:   0%|          | 0/30 [00:00<?, ?it/s]"
      ]
     },
     "metadata": {},
     "output_type": "display_data"
    },
    {
     "name": "stdout",
     "output_type": "stream",
     "text": [
      "Training dataset size: 14850 / 116\n",
      "Val sequence dataset size: 2970 / 24\n",
      "Val correlation dataset size: 1500\n",
      "Test sequence dataset size: 2970 / 24\n",
      "Test correlation dataset size: 1500\n"
     ]
    },
    {
     "data": {
      "application/vnd.jupyter.widget-view+json": {
       "model_id": "262c4677b5ff48e4a18a19d4e6e2d99f",
       "version_major": 2,
       "version_minor": 0
      },
      "text/plain": [
       "Loading sequences of val:   0%|          | 0/30 [00:00<?, ?it/s]"
      ]
     },
     "metadata": {},
     "output_type": "display_data"
    },
    {
     "name": "stdout",
     "output_type": "stream",
     "text": [
      "WARNING: Skipping /home/john/Sync/BISCUIT/data/ithor_subsampled/val/val_seq_1606868915.npz because of inconsistent latent size!\n",
      "WARNING: Skipping /home/john/Sync/BISCUIT/data/ithor_subsampled/val/val_seq_1606868959.npz because of inconsistent latent size!\n",
      "WARNING: Skipping /home/john/Sync/BISCUIT/data/ithor_subsampled/val/val_seq_1606868968.npz because of inconsistent latent size!\n",
      "WARNING: Skipping /home/john/Sync/BISCUIT/data/ithor_subsampled/val/val_seq_1606869051.npz because of inconsistent latent size!\n",
      "WARNING: Latent Egg_afaaaca3_center_x out of bounds!\n",
      "tensor(-1.8750) tensor(0.6250)\n",
      "Ignoring for now...\n",
      "WARNING: Latent Egg_afaaaca3_center_y out of bounds!\n",
      "tensor(-2.8000) tensor(0.2003)\n",
      "Ignoring for now...\n",
      "WARNING: Latent Egg_afaaaca3_center_z out of bounds!\n",
      "tensor(-0.8312) tensor(1.6000)\n",
      "Ignoring for now...\n",
      "WARNING: Latent Plate_49b95a7a_center_x out of bounds!\n",
      "tensor(-2.1429) tensor(0.7949)\n",
      "Ignoring for now...\n",
      "WARNING: Latent Plate_49b95a7a_center_y out of bounds!\n",
      "tensor(-2.8000) tensor(0.7833)\n",
      "Ignoring for now...\n",
      "WARNING: Latent Plate_49b95a7a_center_z out of bounds!\n",
      "tensor(-0.8889) tensor(1.6667)\n",
      "Ignoring for now...\n"
     ]
    }
   ],
   "source": [
    "# Fake args\n",
    "args = get_default_parser().parse_args([])\n",
    "datasets, data_loaders, data_name = load_datasets(args)"
   ]
  },
  {
   "cell_type": "code",
   "execution_count": 19,
   "metadata": {},
   "outputs": [
    {
     "data": {
      "text/plain": [
       "2"
      ]
     },
     "execution_count": 19,
     "metadata": {},
     "output_type": "execute_result"
    }
   ],
   "source": [
    "datasets['train'].action_size()"
   ]
  },
  {
   "cell_type": "code",
   "execution_count": 17,
   "metadata": {},
   "outputs": [
    {
     "data": {
      "text/plain": [
       "(tensor([[[[-0.1451, -0.1216, -0.1059,  ..., -0.0353, -0.0275, -0.0353],\n",
       "           [-0.1137, -0.1451, -0.1373,  ..., -0.0275, -0.0118, -0.0196],\n",
       "           [-0.1059, -0.0980, -0.1137,  ..., -0.0118, -0.0118, -0.0039],\n",
       "           ...,\n",
       "           [ 0.2000,  0.1137,  0.2000,  ..., -0.5216, -0.5216, -0.5216],\n",
       "           [ 0.1529,  0.1216,  0.2078,  ..., -0.4039, -0.4039, -0.4039],\n",
       "           [ 0.2157,  0.1686,  0.1922,  ..., -0.4039, -0.4039, -0.4039]],\n",
       " \n",
       "          [[-0.5059, -0.4824, -0.4667,  ..., -0.4275, -0.4196, -0.4275],\n",
       "           [-0.4745, -0.4980, -0.4980,  ..., -0.4275, -0.4275, -0.4196],\n",
       "           [-0.4745, -0.4667, -0.4745,  ..., -0.4196, -0.4196, -0.4039],\n",
       "           ...,\n",
       "           [ 0.1059,  0.0118,  0.1059,  ..., -0.5059, -0.5137, -0.5137],\n",
       "           [ 0.0588,  0.0275,  0.1137,  ..., -0.3882, -0.3882, -0.3882],\n",
       "           [ 0.1137,  0.0745,  0.0980,  ..., -0.3882, -0.3882, -0.3882]],\n",
       " \n",
       "          [[-0.6784, -0.6549, -0.6314,  ..., -0.6000, -0.5922, -0.5922],\n",
       "           [-0.6627, -0.6784, -0.6706,  ..., -0.6078, -0.6078, -0.5922],\n",
       "           [-0.6549, -0.6471, -0.6549,  ..., -0.6078, -0.6078, -0.5765],\n",
       "           ...,\n",
       "           [-0.0118, -0.1059, -0.0039,  ..., -0.5608, -0.5686, -0.5686],\n",
       "           [-0.0588, -0.0980,  0.0039,  ..., -0.4431, -0.4510, -0.4510],\n",
       "           [ 0.0039, -0.0431, -0.0118,  ..., -0.4431, -0.4431, -0.4431]]],\n",
       " \n",
       " \n",
       "         [[[-0.1451, -0.1216, -0.1059,  ..., -0.0353, -0.0275, -0.0353],\n",
       "           [-0.1137, -0.1451, -0.1373,  ..., -0.0275, -0.0118, -0.0196],\n",
       "           [-0.1059, -0.0980, -0.1137,  ..., -0.0118, -0.0118, -0.0039],\n",
       "           ...,\n",
       "           [ 0.2000,  0.1137,  0.2000,  ..., -0.5216, -0.5216, -0.5216],\n",
       "           [ 0.1529,  0.1216,  0.2078,  ..., -0.4039, -0.4039, -0.4039],\n",
       "           [ 0.2157,  0.1686,  0.1922,  ..., -0.4039, -0.4039, -0.4039]],\n",
       " \n",
       "          [[-0.5059, -0.4824, -0.4667,  ..., -0.4275, -0.4196, -0.4275],\n",
       "           [-0.4745, -0.4980, -0.4980,  ..., -0.4275, -0.4275, -0.4196],\n",
       "           [-0.4745, -0.4667, -0.4745,  ..., -0.4196, -0.4196, -0.4039],\n",
       "           ...,\n",
       "           [ 0.1059,  0.0118,  0.1059,  ..., -0.5059, -0.5137, -0.5137],\n",
       "           [ 0.0588,  0.0275,  0.1137,  ..., -0.3882, -0.3882, -0.3882],\n",
       "           [ 0.1137,  0.0745,  0.0980,  ..., -0.3882, -0.3882, -0.3882]],\n",
       " \n",
       "          [[-0.6784, -0.6549, -0.6314,  ..., -0.6000, -0.5922, -0.5922],\n",
       "           [-0.6627, -0.6784, -0.6706,  ..., -0.6078, -0.6078, -0.5922],\n",
       "           [-0.6549, -0.6471, -0.6549,  ..., -0.6078, -0.6078, -0.5765],\n",
       "           ...,\n",
       "           [-0.0118, -0.1059, -0.0039,  ..., -0.5608, -0.5686, -0.5686],\n",
       "           [-0.0588, -0.0980,  0.0039,  ..., -0.4431, -0.4510, -0.4510],\n",
       "           [ 0.0039, -0.0431, -0.0118,  ..., -0.4431, -0.4431, -0.4431]]]]),\n",
       " tensor([[0.7969, 0.7148]]),\n",
       " tensor([  101,  2017,  2000, 24679,  2094,  1996,  2959, 16247, 16859,   102]),\n",
       " tensor([0, 0, 0, 0, 0, 0, 0, 0, 0, 0]),\n",
       " tensor([1, 1, 1, 1, 1, 1, 1, 1, 1, 1]))"
      ]
     },
     "execution_count": 17,
     "metadata": {},
     "output_type": "execute_result"
    }
   ],
   "source": [
    "datasets['val_seq'][2]"
   ]
  },
  {
   "cell_type": "code",
   "execution_count": null,
   "metadata": {},
   "outputs": [],
   "source": []
  }
 ],
 "metadata": {
  "kernelspec": {
   "display_name": "biscuit",
   "language": "python",
   "name": "python3"
  },
  "language_info": {
   "codemirror_mode": {
    "name": "ipython",
    "version": 3
   },
   "file_extension": ".py",
   "mimetype": "text/x-python",
   "name": "python",
   "nbconvert_exporter": "python",
   "pygments_lexer": "ipython3",
   "version": "3.11.5"
  }
 },
 "nbformat": 4,
 "nbformat_minor": 2
}
