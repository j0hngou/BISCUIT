{
 "cells": [
  {
   "cell_type": "code",
   "execution_count": 18,
   "metadata": {},
   "outputs": [],
   "source": [
    "model = torch.load(model_path)\n",
    "model['hyper_parameters']['autoencoder_checkpoint'] = '/home/john/PhD/BISCUIT/pretrained_models/AE_gridworld_simplified/AE_20l_64hid.ckpt'\n",
    "torch.save(model, model_path)"
   ]
  },
  {
   "cell_type": "code",
   "execution_count": 1,
   "metadata": {},
   "outputs": [
    {
     "name": "stderr",
     "output_type": "stream",
     "text": [
      "/home/john/miniconda3/envs/biscuit/lib/python3.11/site-packages/pytorch_lightning/utilities/migration/utils.py:55: PossibleUserWarning: The loaded checkpoint was produced with Lightning v2.1.0, which is newer than your current Lightning version: v2.0.9.post0\n",
      "  rank_zero_warn(\n",
      "/home/john/miniconda3/envs/biscuit/lib/python3.11/site-packages/torch/_utils.py:831: UserWarning: TypedStorage is deprecated. It will be removed in the future and UntypedStorage will be the only storage class. This should only matter to you if you are using storages directly.  To access UntypedStorage directly, use tensor.untyped_storage() instead of tensor.storage()\n",
      "  return self.fget.__get__(instance, owner)()\n"
     ]
    }
   ],
   "source": [
    "from models.biscuit_nf import BISCUITNF\n",
    "import torch\n",
    "from typing import List, Tuple, Dict, Any, Union, Optional\n",
    "device = 'cuda' if torch.cuda.is_available() else 'cpu'\n",
    "\n",
    "autoencoder_path = '/home/john/PhD/BISCUIT/pretrained_moels/AE_gridworld_simplified/AE_20l_64hid.ckpt'\n",
    "model_path = '/home/john/PhD/BISCUIT/pretrained_models/AE_gridworld_simplified/NF_text_only.ckpt'\n",
    "model = BISCUITNF.load_from_checkpoint(model_path, autoencoder_path=autoencoder_path)\n",
    "model.to(device)\n",
    "model.freeze()\n",
    "_ = model.eval()\n",
    "\n"
   ]
  },
  {
   "cell_type": "code",
   "execution_count": null,
   "metadata": {},
   "outputs": [],
   "source": [
    "import torch\n",
    "encs_path = '/home/john/PhD/BISCUIT/pretrained_models/AE_gridworld_simplified/encodings/gridworld_simplified_5c_test_indep.pt'\n",
    "encs_path_drop_last_frame = '/home/john/PhD/BISCUIT/pretrained_models/AE_gridworld_simplified/encodings/gridworld_simplified_5c_drop_last_frame_test_indep.pt'\n",
    "t = torch.load(encs_path)\n",
    "t1 = torch.load(encs_path_drop_last_frame)\n"
   ]
  },
  {
   "cell_type": "code",
   "execution_count": null,
   "metadata": {},
   "outputs": [],
   "source": [
    "from matplotlib import pyplot as plt\n",
    "for i in range(50):\n",
    "    print(i)\n",
    "    img1 = t1[i]\n",
    "    img2 = t[i]\n",
    "    print(img1)\n",
    "    print(img2)\n",
    "    img1 = model.autoencoder.decoder(torch.from_numpy(img1).to(device).unsqueeze(0))\n",
    "    img1 = (img1 + 1) / 2\n",
    "    img2 = model.autoencoder.decoder(torch.from_numpy(img2).to(device).unsqueeze(0))\n",
    "    img2 = (img2 + 1) / 2\n",
    "    fig, ax = plt.subplots(1, 2)\n",
    "    ax[0].imshow(img1.squeeze().cpu().detach().numpy().transpose(1, 2, 0))\n",
    "    ax[1].imshow(img2.squeeze().cpu().detach().numpy().transpose(1, 2, 0))\n",
    "    plt.show()\n"
   ]
  },
  {
   "cell_type": "code",
   "execution_count": null,
   "metadata": {},
   "outputs": [],
   "source": [
    "test_image = torch.tensor([[ 0.1969,  0.5175, -0.0907, -0.0496,  0.0014,  0.2527, -0.2799, -0.1513,\n",
    "         0.1233,  0.3520,  0.1319,  0.1088, -0.3194,  0.2748, -0.7499, -0.1906,\n",
    "         0.0959,  0.2715,  0.0838, -0.2320]]).to(device)\n",
    "test_image = model.autoencoder.decoder(test_image)\n",
    "test_image = (test_image + 1) / 2\n",
    "plt.imshow(test_image.squeeze().cpu().detach().numpy().transpose(1, 2, 0))"
   ]
  },
  {
   "cell_type": "code",
   "execution_count": null,
   "metadata": {},
   "outputs": [],
   "source": [
    "encodings_path = '/home/gkounto/BISCUIT/experiments/pretrained_models/AE_gridworld_small/encodings/gridworld_small_pre_intv_freeze_test.pt'\n",
    "encodings = torch.load(encodings_path)"
   ]
  },
  {
   "cell_type": "code",
   "execution_count": null,
   "metadata": {},
   "outputs": [],
   "source": [
    "from experiments.datasets import GridworldDataset\n",
    "data_folder = '/home/gkounto/BISCUIT/data_generation/data/gridworld_simplified_5c'\n",
    "# val_seq_dataset = GridworldDataset(\n",
    "# data_folder=data_folder, split='val', return_targets=True, return_robot_state=True, single_image=False, triplet=False, seq_len=2, cluster=False, return_text=False, subsample_percentage=0.01)\n",
    "train_seq_dataset = GridworldDataset(\n",
    "        data_folder=data_folder, split='train', return_targets=True, return_latents=True, single_image=False, triplet=False, seq_len=2, cluster=False, return_text=False, subsample_percentage=0.01)"
   ]
  },
  {
   "cell_type": "code",
   "execution_count": null,
   "metadata": {},
   "outputs": [],
   "source": [
    "train_seq_dataset[0]"
   ]
  },
  {
   "cell_type": "code",
   "execution_count": null,
   "metadata": {},
   "outputs": [],
   "source": [
    "import numpy as np\n",
    "import json\n",
    "from data_generation.gridworld import Gridworld\n",
    "from PIL import Image\n",
    "import matplotlib.pyplot as plt\n",
    "\n",
    "def format_causal_dict(causal_dict):\n",
    "    formatted_text = \"\"\n",
    "    for key, value in causal_dict.items():\n",
    "        formatted_text += f\"{key}: {value}\\n\"\n",
    "        if \"position_y\" in key:  # Add a line break after each entity's details\n",
    "            formatted_text += \"\\n\"\n",
    "    return formatted_text\n",
    "\n",
    "def visualize_episode(frames, causals, causal_keys, actions, action_descriptions, interventions):\n",
    "    for i in range(len(frames)):\n",
    "        # debug_causals = Gridworld.causal_vector_to_debug_dict(causal_keys, causals[i])\n",
    "        debug_causals = dict(zip(causal_keys, causals[i]))\n",
    "        formatted_causals = format_causal_dict(debug_causals)\n",
    "\n",
    "        fig, ax = plt.subplots(figsize=(10, 6))\n",
    "        ax1 = plt.subplot(1, 2, 1)  # Frame subplot\n",
    "        ax1.imshow(frames[i])\n",
    "        ax1.set_title(f\"Frame {i+1}\")\n",
    "        ax1.axis('off')\n",
    "\n",
    "        ax2 = plt.subplot(1, 2, 2)  # Textual information subplot\n",
    "        ax2.axis('off')\n",
    "        text_info = (\n",
    "            f\"Step {i+1}:\\n\\n\"\n",
    "            f\"Causals (Formatted):\\n{formatted_causals}\\n\"\n",
    "            f\"Action: {actions[i]}\\n\"\n",
    "            f\"Action Description: {action_descriptions[i]}\\n\"\n",
    "            f\"Interventions: {interventions[i]}\"\n",
    "        )\n",
    "        ax2.text(0, 1, text_info, ha='left', va='top', fontsize=8, wrap=True)\n",
    "\n",
    "        plt.tight_layout()\n",
    "        plt.show()\n",
    "\n",
    "a = np.load('/home/john/PhD/BISCUIT/data/gridworld_simplified_5c/val/gridworld_episode_10002.npz')\n",
    "causal_keys = json.load(open('/home/john/PhD/BISCUIT/data/gridworld_simplified_5c/train_metadata.json'))['flattened_causals']\n",
    "frames, causals, actions, interventions, action_descriptions = a['frames'], a['causals'], a['actions'], a['interventions'], a['action_descriptions']\n",
    "visualize_episode(frames, causals, causal_keys, actions, action_descriptions, interventions)"
   ]
  },
  {
   "cell_type": "code",
   "execution_count": null,
   "metadata": {},
   "outputs": [],
   "source": [
    "import matplotlib.pyplot as plt\n",
    "from PIL import Image\n",
    "import json\n",
    "# Assume Gridworld, format_causal_dict, and the dataset class are defined elsewhere\n",
    "\n",
    "def visualize_episodes(dataset, causal_keys, N=1):\n",
    "    for episode_idx in range(min(N, len(dataset))):  # Loop through N episodes or the total dataset length\n",
    "        frame_seq = dataset[episode_idx]  # Get the episode data\n",
    "        frames, actions, interventions, causals = frame_seq\n",
    "        \n",
    "        for i in range(frames.shape[0] - 1):  # Iterate through each step, excluding the last frame\n",
    "            # Map causals to keys for the current frame\n",
    "            debug_causals = dict(zip(causal_keys, causals[i]))\n",
    "            formatted_causals = format_causal_dict(debug_causals)\n",
    "\n",
    "            fig, ax = plt.subplots(figsize=(10, 6))\n",
    "            ax1 = plt.subplot(1, 2, 1)  # Frame subplot\n",
    "            # Adjust image normalization if necessary\n",
    "            img = (frames[i].permute(1, 2, 0).cpu().numpy() + 1.0) / 2.0  # Normalize if required\n",
    "            ax1.imshow(img)\n",
    "            ax1.set_title(f\"Episode {episode_idx + 1}, Frame {i + 1}\")\n",
    "            ax1.axis('off')\n",
    "\n",
    "            ax2 = plt.subplot(1, 2, 2)  # Textual information subplot\n",
    "            ax2.axis('off')\n",
    "            text_info = (\n",
    "                f\"Episode {episode_idx + 1}, Step {i + 1}:\\n\\n\"\n",
    "                f\"Causals (Formatted):\\n{formatted_causals}\\n\"\n",
    "                f\"Action: {actions[i]}\\n\"\n",
    "                f\"Interventions: {interventions[i]}\"\n",
    "            )\n",
    "            ax2.text(0, 1, text_info, ha='left', va='top', fontsize=8, wrap=True)\n",
    "\n",
    "            plt.tight_layout()\n",
    "            plt.show()\n",
    "\n",
    "# Example usage:\n",
    "causal_keys = json.load(open('/home/gkounto/BISCUIT/data_generation/data/gridworld_simplified/train_metadata.json'))['flattened_causals']\n",
    "# Assuming train_seq_dataset is defined and loaded\n",
    "visualize_episodes(train_seq_dataset, causal_keys, N=20)\n",
    "\n"
   ]
  },
  {
   "cell_type": "code",
   "execution_count": 17,
   "metadata": {},
   "outputs": [],
   "source": [
    "import numpy as np\n",
    "from PIL import Image\n",
    "import matplotlib.pyplot as plt\n",
    "\n",
    "def show_img(imgs: Any,\n",
    "             figure_title: str = None,\n",
    "             titles: Optional[list] = None):\n",
    "    if not isinstance(imgs, list):\n",
    "        imgs = [imgs]\n",
    "    fig, axes = plt.subplots(1, len(imgs), figsize=(len(imgs) * 3.5, 3.5))\n",
    "    if len(imgs) == 1:\n",
    "        axes = [axes]\n",
    "    for i, ax in enumerate(axes):\n",
    "        if len(imgs[i].shape) == 3 and imgs[i].shape[0] in [3,4]:\n",
    "            imgs[i] = imgs[i].permute(1, 2, 0)\n",
    "        if isinstance(imgs[i], torch.Tensor):\n",
    "            imgs[i] = imgs[i].detach().cpu().numpy()\n",
    "        ax.imshow(imgs[i])\n",
    "        ax.axis('off')\n",
    "        if titles is not None and i < len(titles):\n",
    "            ax.set_title(titles[i], weight='bold')\n",
    "    if figure_title is not None:\n",
    "        fig.suptitle(figure_title, weight='bold', size=16)\n",
    "    plt.tight_layout()\n",
    "    plt.show()\n",
    "\n",
    "def create_exclamation_mark_image(size=256, background_color=(1, 1, 1), mark_color=(1, 0, 0), mark_thickness=10, mark_height=100, dot_radius=10):\n",
    "    \"\"\"\n",
    "    Creates an image with a red exclamation mark in the center on a white background.\n",
    "\n",
    "    Parameters:\n",
    "    - size (int): The size of the image (width and height). Default is 256.\n",
    "    - background_color (tuple): The RGB color of the background in the range 0 to 1. Default is white.\n",
    "    - mark_color (tuple): The RGB color of the exclamation mark in the range 0 to 1. Default is red.\n",
    "    - mark_thickness (int): The thickness of the line part of the exclamation mark. Default is 10.\n",
    "    - mark_height (int): The height of the line part of the exclamation mark. Default is 100.\n",
    "    - dot_radius (int): The radius of the dot part of the exclamation mark. Default is 10.\n",
    "\n",
    "    Returns:\n",
    "    - numpy.ndarray: The generated image as a NumPy array.\n",
    "    \"\"\"\n",
    "    # Create a size x size x 3 array with the background color\n",
    "    image = np.ones((size, size, 3)) * np.array(background_color)\n",
    "\n",
    "    # Define the center position\n",
    "    center_x, center_y = size // 2, size // 2\n",
    "\n",
    "    # Draw the line part of the exclamation mark\n",
    "    for x in range(center_x - mark_thickness // 2, center_x + mark_thickness // 2):\n",
    "        for y in range(center_y - mark_height // 2, center_y + mark_height // 2 - dot_radius * 2):\n",
    "            image[y, x] = mark_color\n",
    "\n",
    "    # Draw the dot part of the exclamation mark\n",
    "    for x in range(image.shape[1]):\n",
    "        for y in range(image.shape[0]):\n",
    "            if (x - center_x) ** 2 + (y - (center_y + mark_height // 2 + dot_radius)) ** 2 <= dot_radius ** 2:\n",
    "                image[y, x] = mark_color\n",
    "\n",
    "    return image\n",
    "\n",
    "\n",
    "@torch.no_grad()\n",
    "def next_step_prediction(\n",
    "        model: BISCUITNF,\n",
    "        image: torch.Tensor,\n",
    "        action: torch.Tensor,\n",
    "        gt_image: torch.Tensor = torch.zeros(1),\n",
    "        latents: Optional[torch.Tensor] = None,\n",
    "        plot_images: bool = True,\n",
    "        intv_targets: Optional[torch.Tensor] = None,\n",
    "        text: Optional[str] = None,\n",
    "        tokenizer: Optional[Any] = None,\n",
    "        text_only: bool = False,\n",
    "        N: int = 8\n",
    "    ) -> Tuple[torch.Tensor, torch.Tensor]:\n",
    "    if latents is None:\n",
    "        input_image = (image * 2.0) - 1.0\n",
    "        latents = model.autoencoder.encoder(input_image[None])\n",
    "        latents, _ = model.flow.forward(latents)\n",
    "    if text is not None:\n",
    "        tokenized_description = tokenizer.tokenizer(text, return_token_type_ids=True, padding='max_length', max_length=64)\n",
    "        input_ids = torch.tensor(tokenized_description['input_ids']).to(device)\n",
    "        token_type_ids = torch.tensor(tokenized_description['token_type_ids']).to(device)\n",
    "        attention_mask = torch.tensor(tokenized_description['attention_mask']).to(device)\n",
    "        tokenized_description = {'input_ids': input_ids, 'token_type_ids': token_type_ids, 'attention_mask': attention_mask}    \n",
    "    new_latents, _ = model.prior_t1.sample(latents, action[None], num_samples=1, intv_targets=intv_targets, tokenized_description=tokenized_description)\n",
    "    new_latents = new_latents.squeeze(1)\n",
    "    new_encodings = model.flow.reverse(new_latents)\n",
    "    new_image = model.autoencoder.decoder(new_encodings)[0]\n",
    "    new_image = (new_image + 1.0) / 2.0\n",
    "    if plot_images:\n",
    "        gt_diff_flag = False\n",
    "        new_image_frame = new_image.permute(1, 2, 0).cpu().numpy()\n",
    "        if latents is None:\n",
    "            old_image_frame = (image.permute(1, 2, 0).cpu().numpy() + 1.0) / 2.0\n",
    "        else:\n",
    "            old_image_frame = image.permute(1, 2, 0).cpu().numpy()\n",
    "        clicked_image_frame = np.copy(old_image_frame)\n",
    "        ground_truth_image_frame = (gt_image.permute(1, 2, 0).cpu().numpy() + 1.0) / 2.0\n",
    "        difference = np.abs(new_image_frame - ground_truth_image_frame)\n",
    "        print(f\"Mean absolute difference between the new image and the ground truth: {difference.mean()}\")\n",
    "        if difference.mean() > 0.001:\n",
    "            print(\"The new image is not close to the ground truth\")\n",
    "            gt_diff_flag = True\n",
    "            exclamation_mark_image = create_exclamation_mark_image()\n",
    "        if action.ndim == 1:\n",
    "            action = action[None]\n",
    "        for i in range(action.shape[0]):\n",
    "            if torch.any(action < 0) or torch.any(action > 1):\n",
    "                continue\n",
    "            # Correct calculation for pixel positions considering the normalized action coordinates\n",
    "            pixel_x = int(action[i, 0].item() * (image.shape[-1] - 1))\n",
    "            pixel_y = int(action[i, 1].item() * (image.shape[-2] - 1))\n",
    "            # Highlight the click location with a red color\n",
    "            clicked_image_frame[max(0, pixel_y-5):pixel_y+6, \n",
    "                                max(0, pixel_x-5):pixel_x+6, \n",
    "                                :] = np.array([1.0, 1.0, 1.0])\n",
    "        if torch.any(gt_image != 0):\n",
    "            image_list = [old_image_frame, clicked_image_frame, new_image_frame, ground_truth_image_frame]\n",
    "            image_titles = ['Previous Frame', 'Click Location', 'New Sample', 'Ground Truth']\n",
    "            if gt_diff_flag:\n",
    "                image_list.append(exclamation_mark_image)\n",
    "                image_titles.append('Difference')\n",
    "            show_img(image_list,\n",
    "                     figure_title=f'Performing action {(action if action.ndim == 1 else action[0]).squeeze().cpu().numpy()}',\n",
    "                     titles=image_titles)\n",
    "        else:\n",
    "            show_img([old_image_frame, clicked_image_frame, new_image_frame],\n",
    "                    figure_title=f'Performing action {(action if action.ndim == 1 else action[0]).squeeze().cpu().numpy()}',\n",
    "                    titles=['Previous Frame', 'Click Location', 'New Sample'])\n",
    "    return new_image, new_latents\n",
    "\n",
    "\n"
   ]
  },
  {
   "cell_type": "code",
   "execution_count": null,
   "metadata": {},
   "outputs": [],
   "source": [
    "val_dataset = GridworldDataset(\n",
    "\tdata_folder=data_folder, split='val_indep', return_targets=False, single_image=True, return_latents=True, triplet=False, seq_len=2, cluster=False, return_text=False, subsample_percentage=1.0,)\n",
    "for elem in val_dataset:\n",
    "    print(elem[0].shape)"
   ]
  },
  {
   "cell_type": "code",
   "execution_count": 5,
   "metadata": {},
   "outputs": [
    {
     "name": "stdout",
     "output_type": "stream",
     "text": [
      "10\n"
     ]
    },
    {
     "name": "stderr",
     "output_type": "stream",
     "text": [
      "Loading sequences of test:   0%|          | 0/10 [00:00<?, ?it/s]"
     ]
    },
    {
     "name": "stderr",
     "output_type": "stream",
     "text": [
      "                                                                          \r"
     ]
    },
    {
     "name": "stdout",
     "output_type": "stream",
     "text": [
      "100\n"
     ]
    },
    {
     "name": "stderr",
     "output_type": "stream",
     "text": [
      "                                                                                 \r"
     ]
    }
   ],
   "source": [
    "from experiments.datasets import GridworldDataset\n",
    "data_folder = '/home/john/PhD/BISCUIT/data/gridworld_simplified_5c'\n",
    "# val_seq_dataset = GridworldDataset(\n",
    "# data_folder=data_folder, split='val', return_targets=True, return_robot_state=True, single_image=False, triplet=False, seq_len=2, cluster=False, return_text=False, subsample_percentage=0.01)\n",
    "test_seq_dataset = GridworldDataset(\n",
    "        data_folder=data_folder, split='test', return_targets=True, return_latents=True, single_image=False, triplet=False, seq_len=2, cluster=False, return_text=False, subsample_percentage=0.01)\n",
    "val_indep_dataset = GridworldDataset(\n",
    "         data_folder=data_folder, split='val_indep', return_targets=True, single_image=True, return_latents=True, triplet=False, seq_len=1, cluster=False, return_text=False, subsample_percentage=0.1)"
   ]
  },
  {
   "cell_type": "code",
   "execution_count": null,
   "metadata": {},
   "outputs": [],
   "source": [
    "import torch\n",
    "\n",
    "def reverseEnum(data: list):\n",
    "    for i in range(len(data)-1, -1, -1):\n",
    "        yield (i, data[i])\n",
    "\n",
    "for i, frame_seq in enumerate(test_seq_dataset):\n",
    "        print(i)\n",
    "        action = torch.tensor(frame_seq[1]).to(device).squeeze()\n",
    "        interventions = torch.tensor(frame_seq[2]).to(device)\n",
    "        causals = torch.tensor(frame_seq[3]).to(device)\n",
    "        print(causals)\n",
    "        print(interventions)\n",
    "        # intv_targets = torch.tensor(frame_seq[2]).to(device)\n",
    "        intv_targets = None\n",
    "        plot_images = True\n",
    "        new_image, new_latents = next_step_prediction(model, frame_seq[0][0], action, gt_image=frame_seq[0][1], plot_images=plot_images, intv_targets=intv_targets)"
   ]
  },
  {
   "cell_type": "code",
   "execution_count": null,
   "metadata": {},
   "outputs": [],
   "source": [
    "for i, frame_seq in enumerate(val_seq_dataset):\n",
    "    # Stack the images at each step to form a sequence\n",
    "    frames, actions = frame_seq\n",
    "    frames = frames.to(device)\n",
    "    actions = torch.from_numpy(actions).to(device)\n",
    "    # interventions = interventions.to(device)\n",
    "    # causals = causals.to(device)\n",
    "    # Perform the next step prediction\n",
    "    new_image, new_latents = next_step_prediction(frames[0], actions, gt_image=frames[1], intv_targets=None, plot_images=True)\n",
    "    \n"
   ]
  },
  {
   "cell_type": "code",
   "execution_count": 15,
   "metadata": {},
   "outputs": [
    {
     "name": "stderr",
     "output_type": "stream",
     "text": [
      "Clipping input data to the valid range for imshow with RGB data ([0..1] for floats or [0..255] for integers).\n"
     ]
    },
    {
     "data": {
      "application/vnd.jupyter.widget-view+json": {
       "model_id": "9a60cc32d35d45d6b92d66ed3aa698f8",
       "version_major": 2,
       "version_minor": 0
      },
      "image/png": "[encoded data removed]",
      "text/html": [
       "\n",
       "            <div style=\"display: inline-block;\">\n",
       "                <div class=\"jupyter-widgets widget-label\" style=\"text-align: center;\">\n",
       "                    Figure\n",
       "                </div>\n",
       "                <img src='data:image/png;base64,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' width=640.0/>\n",
       "            </div>\n",
       "        "
      ],
      "text/plain": [
       "Canvas(toolbar=Toolbar(toolitems=[('Home', 'Reset original view', 'home', 'home'), ('Back', 'Back to previous …"
      ]
     },
     "metadata": {},
     "output_type": "display_data"
    }
   ],
   "source": [
    "%matplotlib ipympl\n",
    "\n",
    "latents = None\n",
    "image = test_seq_dataset[0][0][0]\n",
    "\n",
    "fig, ax = plt.subplots()\n",
    "ax.imshow(image.permute(1, 2, 0).cpu().numpy())\n",
    "load_text = ax.text(image.shape[-1]//2, \n",
    "                image.shape[-2]//2, \n",
    "                'Loading...', \n",
    "                fontsize='x-large',\n",
    "                weight='bold',\n",
    "                va='center',\n",
    "                ha='center',\n",
    "                backgroundcolor=(1.0, 0.8, 0.8))\n",
    "load_text.set_visible(False)\n",
    "ax.axis('off')\n",
    "\n",
    "def onclick(event):\n",
    "    print('click')\n",
    "    global image, latents\n",
    "    load_text.set_visible(True)\n",
    "    fig.canvas.draw()\n",
    "    ix, iy = event.xdata, event.ydata\n",
    "    # ix = (ix / image.shape[-1] - 0.5) * 2.0\n",
    "    # iy = (iy / image.shape[-2] - 0.5) * 2.0\n",
    "    print(f'Clicked at x={ix}, y={iy}')\n",
    "    image, latents = next_step_prediction(model, image=image,\n",
    "                                            action=torch.tensor([iy, ix], \n",
    "                                                                    dtype=torch.float32,\n",
    "                                                                    device=device),\n",
    "                                            latents=latents,\n",
    "                                            plot_images=False)\n",
    "    ax.imshow(image.permute(1, 2, 0).cpu().numpy())\n",
    "    load_text.set_visible(False)\n",
    "    fig.canvas.draw()\n",
    "\n",
    "cid = fig.canvas.mpl_connect('button_press_event', onclick)"
   ]
  },
  {
   "cell_type": "code",
   "execution_count": 6,
   "metadata": {},
   "outputs": [
    {
     "ename": "UnboundLocalError",
     "evalue": "cannot access local variable 'tokenized_description' where it is not associated with a value",
     "output_type": "error",
     "traceback": [
      "\u001b[0;31m---------------------------------------------------------------------------\u001b[0m",
      "\u001b[0;31mUnboundLocalError\u001b[0m                         Traceback (most recent call last)",
      "Cell \u001b[0;32mIn[6], line 12\u001b[0m\n\u001b[1;32m      3\u001b[0m action_sequence \u001b[38;5;241m=\u001b[39m [\n\u001b[1;32m      4\u001b[0m     (\u001b[38;5;241m0.42857143\u001b[39m, \u001b[38;5;241m1.\u001b[39m),\n\u001b[1;32m      5\u001b[0m     (\u001b[38;5;241m0.\u001b[39m, \u001b[38;5;241m0.\u001b[39m),\n\u001b[0;32m   (...)\u001b[0m\n\u001b[1;32m      8\u001b[0m     (\u001b[38;5;241m0.\u001b[39m, \u001b[38;5;241m0.\u001b[39m),\n\u001b[1;32m      9\u001b[0m ]\n\u001b[1;32m     11\u001b[0m \u001b[38;5;28;01mfor\u001b[39;00m i, action \u001b[38;5;129;01min\u001b[39;00m \u001b[38;5;28menumerate\u001b[39m(action_sequence):\n\u001b[0;32m---> 12\u001b[0m     image, latents \u001b[38;5;241m=\u001b[39m \u001b[43mnext_step_prediction\u001b[49m\u001b[43m(\u001b[49m\u001b[43mmodel\u001b[49m\u001b[43m,\u001b[49m\n\u001b[1;32m     13\u001b[0m \u001b[43m                                          \u001b[49m\u001b[43mimage\u001b[49m\u001b[38;5;241;43m=\u001b[39;49m\u001b[43mimage\u001b[49m\u001b[43m,\u001b[49m\u001b[43m \u001b[49m\n\u001b[1;32m     14\u001b[0m \u001b[43m                                          \u001b[49m\u001b[43maction\u001b[49m\u001b[38;5;241;43m=\u001b[39;49m\u001b[43mtorch\u001b[49m\u001b[38;5;241;43m.\u001b[39;49m\u001b[43mtensor\u001b[49m\u001b[43m(\u001b[49m\u001b[43maction\u001b[49m\u001b[43m,\u001b[49m\u001b[43m \u001b[49m\u001b[43mdevice\u001b[49m\u001b[38;5;241;43m=\u001b[39;49m\u001b[43mdevice\u001b[49m\u001b[43m)\u001b[49m\u001b[43m,\u001b[49m\u001b[43m \u001b[49m\n\u001b[1;32m     15\u001b[0m \u001b[43m                                          \u001b[49m\u001b[43mlatents\u001b[49m\u001b[38;5;241;43m=\u001b[39;49m\u001b[43mlatents\u001b[49m\u001b[43m,\u001b[49m\n\u001b[1;32m     16\u001b[0m \u001b[43m                                          \u001b[49m\u001b[43mgt_image\u001b[49m\u001b[38;5;241;43m=\u001b[39;49m\u001b[43mtest_seq_dataset\u001b[49m\u001b[43m[\u001b[49m\u001b[38;5;241;43m5\u001b[39;49m\u001b[43m]\u001b[49m\u001b[43m[\u001b[49m\u001b[38;5;241;43m0\u001b[39;49m\u001b[43m]\u001b[49m\u001b[43m[\u001b[49m\u001b[38;5;241;43m1\u001b[39;49m\u001b[43m]\u001b[49m\u001b[43m,\u001b[49m\n\u001b[1;32m     17\u001b[0m \u001b[43m                                          \u001b[49m\u001b[43mplot_images\u001b[49m\u001b[38;5;241;43m=\u001b[39;49m\u001b[38;5;28;43;01mTrue\u001b[39;49;00m\u001b[43m)\u001b[49m\n",
      "File \u001b[0;32m~/miniconda3/envs/biscuit/lib/python3.11/site-packages/torch/utils/_contextlib.py:115\u001b[0m, in \u001b[0;36mcontext_decorator.<locals>.decorate_context\u001b[0;34m(*args, **kwargs)\u001b[0m\n\u001b[1;32m    112\u001b[0m \u001b[38;5;129m@functools\u001b[39m\u001b[38;5;241m.\u001b[39mwraps(func)\n\u001b[1;32m    113\u001b[0m \u001b[38;5;28;01mdef\u001b[39;00m \u001b[38;5;21mdecorate_context\u001b[39m(\u001b[38;5;241m*\u001b[39margs, \u001b[38;5;241m*\u001b[39m\u001b[38;5;241m*\u001b[39mkwargs):\n\u001b[1;32m    114\u001b[0m     \u001b[38;5;28;01mwith\u001b[39;00m ctx_factory():\n\u001b[0;32m--> 115\u001b[0m         \u001b[38;5;28;01mreturn\u001b[39;00m \u001b[43mfunc\u001b[49m\u001b[43m(\u001b[49m\u001b[38;5;241;43m*\u001b[39;49m\u001b[43margs\u001b[49m\u001b[43m,\u001b[49m\u001b[43m \u001b[49m\u001b[38;5;241;43m*\u001b[39;49m\u001b[38;5;241;43m*\u001b[39;49m\u001b[43mkwargs\u001b[49m\u001b[43m)\u001b[49m\n",
      "Cell \u001b[0;32mIn[2], line 86\u001b[0m, in \u001b[0;36mnext_step_prediction\u001b[0;34m(model, image, action, gt_image, latents, plot_images, intv_targets, text, tokenizer, text_only, N)\u001b[0m\n\u001b[1;32m     84\u001b[0m     attention_mask \u001b[38;5;241m=\u001b[39m torch\u001b[38;5;241m.\u001b[39mtensor(tokenized_description[\u001b[38;5;124m'\u001b[39m\u001b[38;5;124mattention_mask\u001b[39m\u001b[38;5;124m'\u001b[39m])\u001b[38;5;241m.\u001b[39mto(device)\n\u001b[1;32m     85\u001b[0m     tokenized_description \u001b[38;5;241m=\u001b[39m {\u001b[38;5;124m'\u001b[39m\u001b[38;5;124minput_ids\u001b[39m\u001b[38;5;124m'\u001b[39m: input_ids, \u001b[38;5;124m'\u001b[39m\u001b[38;5;124mtoken_type_ids\u001b[39m\u001b[38;5;124m'\u001b[39m: token_type_ids, \u001b[38;5;124m'\u001b[39m\u001b[38;5;124mattention_mask\u001b[39m\u001b[38;5;124m'\u001b[39m: attention_mask}    \n\u001b[0;32m---> 86\u001b[0m new_latents, _ \u001b[38;5;241m=\u001b[39m model\u001b[38;5;241m.\u001b[39mprior_t1\u001b[38;5;241m.\u001b[39msample(latents, action[\u001b[38;5;28;01mNone\u001b[39;00m], num_samples\u001b[38;5;241m=\u001b[39m\u001b[38;5;241m1\u001b[39m, intv_targets\u001b[38;5;241m=\u001b[39mintv_targets, tokenized_description\u001b[38;5;241m=\u001b[39m\u001b[43mtokenized_description\u001b[49m)\n\u001b[1;32m     87\u001b[0m new_latents \u001b[38;5;241m=\u001b[39m new_latents\u001b[38;5;241m.\u001b[39msqueeze(\u001b[38;5;241m1\u001b[39m)\n\u001b[1;32m     88\u001b[0m new_encodings \u001b[38;5;241m=\u001b[39m model\u001b[38;5;241m.\u001b[39mflow\u001b[38;5;241m.\u001b[39mreverse(new_latents)\n",
      "\u001b[0;31mUnboundLocalError\u001b[0m: cannot access local variable 'tokenized_description' where it is not associated with a value"
     ]
    }
   ],
   "source": [
    "image = test_seq_dataset[5][0][0]\n",
    "latents = None\n",
    "action_sequence = [\n",
    "    (0.42857143, 1.),\n",
    "    (0., 0.),\n",
    "    (-0.14285714, -0.14285714),\n",
    "    (0.42857143, 1.),\n",
    "    (0., 0.),\n",
    "]\n",
    "\n",
    "for i, action in enumerate(action_sequence):\n",
    "    image, latents = next_step_prediction(model,\n",
    "                                          image=image, \n",
    "                                          action=torch.tensor(action, device=device), \n",
    "                                          latents=latents,\n",
    "                                          gt_image=test_seq_dataset[5][0][1],\n",
    "                                          plot_images=True)"
   ]
  },
  {
   "cell_type": "code",
   "execution_count": 26,
   "metadata": {},
   "outputs": [
    {
     "name": "stderr",
     "output_type": "stream",
     "text": [
      "Clipping input data to the valid range for imshow with RGB data ([0..1] for floats or [0..255] for integers).\n"
     ]
    },
    {
     "data": {
      "application/vnd.jupyter.widget-view+json": {
       "model_id": "129f74e522d54db6a99c70b140d5a211",
       "version_major": 2,
       "version_minor": 0
      },
      "text/plain": [
       "VBox(children=(Text(value='', description='Action:', placeholder='Type action here'), Button(description='Upda…"
      ]
     },
     "execution_count": 26,
     "metadata": {},
     "output_type": "execute_result"
    },
    {
     "data": {
      "application/vnd.jupyter.widget-view+json": {
       "model_id": "3341a6a6db134c37b846a0bede24d004",
       "version_major": 2,
       "version_minor": 0
      },
      "image/png": "[encoded data removed]",
      "text/html": [
       "\n",
       "            <div style=\"display: inline-block;\">\n",
       "                <div class=\"jupyter-widgets widget-label\" style=\"text-align: center;\">\n",
       "                    Figure\n",
       "                </div>\n",
       "                <img src='data:image/png;base64,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' width=640.0/>\n",
       "            </div>\n",
       "        "
      ],
      "text/plain": [
       "Canvas(toolbar=Toolbar(toolitems=[('Home', 'Reset original view', 'home', 'home'), ('Back', 'Back to previous …"
      ]
     },
     "metadata": {},
     "output_type": "display_data"
    },
    {
     "name": "stderr",
     "output_type": "stream",
     "text": [
      "Clipping input data to the valid range for imshow with RGB data ([0..1] for floats or [0..255] for integers).\n"
     ]
    },
    {
     "name": "stdout",
     "output_type": "stream",
     "text": [
      "Action: You moved the rocky, orange obstacle.\n"
     ]
    },
    {
     "name": "stderr",
     "output_type": "stream",
     "text": [
      "Clipping input data to the valid range for imshow with RGB data ([0..1] for floats or [0..255] for integers).\n"
     ]
    },
    {
     "name": "stdout",
     "output_type": "stream",
     "text": [
      "Action: You moved the rocky, orange obstacle.\n"
     ]
    },
    {
     "name": "stderr",
     "output_type": "stream",
     "text": [
      "Clipping input data to the valid range for imshow with RGB data ([0..1] for floats or [0..255] for integers).\n"
     ]
    },
    {
     "name": "stdout",
     "output_type": "stream",
     "text": [
      "Action: You moved the rocky, orange obstacle.\n"
     ]
    },
    {
     "name": "stderr",
     "output_type": "stream",
     "text": [
      "Clipping input data to the valid range for imshow with RGB data ([0..1] for floats or [0..255] for integers).\n"
     ]
    },
    {
     "name": "stdout",
     "output_type": "stream",
     "text": [
      "Action: You moved the rocky, orange obstacle.\n"
     ]
    },
    {
     "name": "stderr",
     "output_type": "stream",
     "text": [
      "Clipping input data to the valid range for imshow with RGB data ([0..1] for floats or [0..255] for integers).\n"
     ]
    },
    {
     "name": "stdout",
     "output_type": "stream",
     "text": [
      "Action: You moved the rocky, orange obstacle.\n"
     ]
    },
    {
     "name": "stderr",
     "output_type": "stream",
     "text": [
      "Clipping input data to the valid range for imshow with RGB data ([0..1] for floats or [0..255] for integers).\n"
     ]
    },
    {
     "name": "stdout",
     "output_type": "stream",
     "text": [
      "Action: You moved the rocky, orange obstacle.\n"
     ]
    },
    {
     "name": "stderr",
     "output_type": "stream",
     "text": [
      "Clipping input data to the valid range for imshow with RGB data ([0..1] for floats or [0..255] for integers).\n"
     ]
    },
    {
     "name": "stdout",
     "output_type": "stream",
     "text": [
      "Action: You moved the rocky, orange obstacle.\n"
     ]
    },
    {
     "name": "stderr",
     "output_type": "stream",
     "text": [
      "Clipping input data to the valid range for imshow with RGB data ([0..1] for floats or [0..255] for integers).\n"
     ]
    },
    {
     "name": "stdout",
     "output_type": "stream",
     "text": [
      "Action: You moved the rocky, orange obstacle.\n"
     ]
    },
    {
     "name": "stderr",
     "output_type": "stream",
     "text": [
      "Clipping input data to the valid range for imshow with RGB data ([0..1] for floats or [0..255] for integers).\n"
     ]
    },
    {
     "name": "stdout",
     "output_type": "stream",
     "text": [
      "Action: You moved the rocky, orange obstacle.\n"
     ]
    },
    {
     "name": "stderr",
     "output_type": "stream",
     "text": [
      "Clipping input data to the valid range for imshow with RGB data ([0..1] for floats or [0..255] for integers).\n"
     ]
    },
    {
     "name": "stdout",
     "output_type": "stream",
     "text": [
      "Action: You moved the rocky, orange obstacle.\n"
     ]
    },
    {
     "name": "stderr",
     "output_type": "stream",
     "text": [
      "Clipping input data to the valid range for imshow with RGB data ([0..1] for floats or [0..255] for integers).\n"
     ]
    },
    {
     "name": "stdout",
     "output_type": "stream",
     "text": [
      "Action: You moved the rocky, orange obstacle.\n"
     ]
    },
    {
     "name": "stderr",
     "output_type": "stream",
     "text": [
      "Clipping input data to the valid range for imshow with RGB data ([0..1] for floats or [0..255] for integers).\n"
     ]
    },
    {
     "name": "stdout",
     "output_type": "stream",
     "text": [
      "Action: You moved the rocky, orange obstacle.\n"
     ]
    },
    {
     "name": "stderr",
     "output_type": "stream",
     "text": [
      "Clipping input data to the valid range for imshow with RGB data ([0..1] for floats or [0..255] for integers).\n"
     ]
    },
    {
     "name": "stdout",
     "output_type": "stream",
     "text": [
      "Action: You toggled the state of the cyan traffic light.\n"
     ]
    },
    {
     "name": "stderr",
     "output_type": "stream",
     "text": [
      "Clipping input data to the valid range for imshow with RGB data ([0..1] for floats or [0..255] for integers).\n"
     ]
    },
    {
     "name": "stdout",
     "output_type": "stream",
     "text": [
      "Action: You toggled the state of the cyan traffic light.\n"
     ]
    },
    {
     "name": "stderr",
     "output_type": "stream",
     "text": [
      "Clipping input data to the valid range for imshow with RGB data ([0..1] for floats or [0..255] for integers).\n"
     ]
    },
    {
     "name": "stdout",
     "output_type": "stream",
     "text": [
      "Action: You toggled the state of the cyan traffic light.\n"
     ]
    },
    {
     "name": "stderr",
     "output_type": "stream",
     "text": [
      "Clipping input data to the valid range for imshow with RGB data ([0..1] for floats or [0..255] for integers).\n"
     ]
    },
    {
     "name": "stdout",
     "output_type": "stream",
     "text": [
      "Action: You toggled the state of the cyan traffic light.\n"
     ]
    },
    {
     "name": "stderr",
     "output_type": "stream",
     "text": [
      "Clipping input data to the valid range for imshow with RGB data ([0..1] for floats or [0..255] for integers).\n"
     ]
    },
    {
     "name": "stdout",
     "output_type": "stream",
     "text": [
      "Action: You performed no action.\n"
     ]
    },
    {
     "name": "stderr",
     "output_type": "stream",
     "text": [
      "Clipping input data to the valid range for imshow with RGB data ([0..1] for floats or [0..255] for integers).\n"
     ]
    },
    {
     "name": "stdout",
     "output_type": "stream",
     "text": [
      "Action: You toggled the state oaf the cyan traffic light.\n"
     ]
    },
    {
     "name": "stderr",
     "output_type": "stream",
     "text": [
      "Clipping input data to the valid range for imshow with RGB data ([0..1] for floats or [0..255] for integers).\n"
     ]
    },
    {
     "name": "stdout",
     "output_type": "stream",
     "text": [
      "Action: You performed no action.\n"
     ]
    },
    {
     "name": "stderr",
     "output_type": "stream",
     "text": [
      "Clipping input data to the valid range for imshow with RGB data ([0..1] for floats or [0..255] for integers).\n"
     ]
    },
    {
     "name": "stdout",
     "output_type": "stream",
     "text": [
      "Action: You performed no action.\n"
     ]
    },
    {
     "name": "stderr",
     "output_type": "stream",
     "text": [
      "Clipping input data to the valid range for imshow with RGB data ([0..1] for floats or [0..255] for integers).\n"
     ]
    },
    {
     "name": "stdout",
     "output_type": "stream",
     "text": [
      "Action: You performed no action.\n"
     ]
    }
   ],
   "source": [
    "%matplotlib ipympl\n",
    "import ipywidgets as widgets\n",
    "from IPython.display import display\n",
    "import torch\n",
    "import matplotlib.pyplot as plt\n",
    "from open_clip import get_tokenizer\n",
    "tokenizer = get_tokenizer('hf-hub:timm/ViT-B-16-SigLIP')\n",
    "action = torch.tensor((-0.14285714, -0.14285714)).to(device)\n",
    "\n",
    "# Assuming test_seq_dataset, next_step_prediction, and device are defined elsewhere\n",
    "latents = None\n",
    "image = test_seq_dataset[0][0][0]\n",
    "\n",
    "\n",
    "fig, ax = plt.subplots()\n",
    "ax.imshow(image.permute(1, 2, 0).cpu().numpy())\n",
    "load_text = ax.text(image.shape[-1]//2, \n",
    "                    image.shape[-2]//2, \n",
    "                    'Enter action and press \"Update\"', \n",
    "                    fontsize='x-large',\n",
    "                    weight='bold',\n",
    "                    va='center',\n",
    "                    ha='center',\n",
    "                    backgroundcolor=(1.0, 0.8, 0.8))\n",
    "load_text.set_visible(True)  # Initially visible to prompt for input\n",
    "ax.axis('off')\n",
    "\n",
    "# Text input for action\n",
    "text_input = widgets.Text(\n",
    "    value='',\n",
    "    placeholder='Type action here',\n",
    "    description='Action:',\n",
    "    disabled=False\n",
    ")\n",
    "\n",
    "# Button to trigger the update\n",
    "update_button = widgets.Button(\n",
    "    description='Update',\n",
    "    disabled=False,\n",
    "    button_style='',  # 'success', 'info', 'warning', 'danger' or ''\n",
    "    tooltip='Click to update based on action',\n",
    "    icon='check'  # (FontAwesome names without the `fa-` prefix)\n",
    ")\n",
    "\n",
    "def on_update_button_clicked(b):\n",
    "    global image, latents\n",
    "    text = text_input.value  # Get the text from the input widget\n",
    "    \n",
    "    # Convert action_text to the format expected by next_step_prediction\n",
    "    # This example assumes next_step_prediction now accepts a string action.\n",
    "    # You may need to process action_text as needed for your use case.\n",
    "    \n",
    "    print(f'Action: {text}')  # For debugging, can be removed later\n",
    "\n",
    "    # Update the image and latents based on the provided action\n",
    "    image, latents = next_step_prediction(model,\n",
    "                                          image=image,\n",
    "                                          action=action,  # Assuming the function now accepts a string\n",
    "                                          latents=latents,\n",
    "                                          plot_images=False,\n",
    "                                          text=text,\n",
    "                                          tokenizer=tokenizer,\n",
    "                                          text_only=True)\n",
    "                                          \n",
    "    \n",
    "    # Update the plot with the new image\n",
    "    ax.clear()  # Clear the previous image\n",
    "    ax.imshow(image.permute(1, 2, 0).cpu().numpy())\n",
    "    load_text.set_visible(False)  # Hide the loading text\n",
    "    ax.axis('off')  # Hide axes again after redrawing\n",
    "    fig.canvas.draw()  # Refresh the figure\n",
    "\n",
    "update_button.on_click(on_update_button_clicked)\n",
    "\n",
    "# Display the widgets\n",
    "widgets.VBox([text_input, update_button])\n"
   ]
  },
  {
   "cell_type": "code",
   "execution_count": 14,
   "metadata": {},
   "outputs": [
    {
     "data": {
      "text/plain": [
       "True"
      ]
     },
     "execution_count": 14,
     "metadata": {},
     "output_type": "execute_result"
    }
   ],
   "source": [
    "model.prior_t1.text_only"
   ]
  },
  {
   "cell_type": "code",
   "execution_count": 16,
   "metadata": {},
   "outputs": [
    {
     "name": "stderr",
     "output_type": "stream",
     "text": [
      "/tmp/ipykernel_69128/3026738566.py:86: UserWarning: To copy construct from a tensor, it is recommended to use sourceTensor.clone().detach() or sourceTensor.clone().detach().requires_grad_(True), rather than torch.tensor(sourceTensor).\n",
      "  new_latents, _ = model.prior_t1.sample(latents, torch.tensor(action)[None], num_samples=1, intv_targets=intv_targets, tokenized_description=tokenized_description)\n"
     ]
    }
   ],
   "source": [
    "text = 'You toggled the state of the cyan traffic light'\n",
    "image, latents = next_step_prediction(model,\n",
    "\t\t\t\t\timage=image,\n",
    "\t\t\t\t\taction=torch.tensor(action).to(device),  # Assuming the function now accepts a string\n",
    "\t\t\t\t\tlatents=latents,\n",
    "\t\t\t\t\tplot_images=False,\n",
    "\t\t\t\t\ttext=text,\n",
    "\t\t\t\t\ttokenizer=tokenizer,\n",
    "\t\t\t\t\ttext_only=True)"
   ]
  },
  {
   "cell_type": "code",
   "execution_count": null,
   "metadata": {},
   "outputs": [],
   "source": []
  }
 ],
 "metadata": {
  "kernelspec": {
   "display_name": "Python 3 (ipykernel)",
   "language": "python",
   "name": "python3"
  },
  "language_info": {
   "codemirror_mode": {
    "name": "ipython",
    "version": 3
   },
   "file_extension": ".py",
   "mimetype": "text/x-python",
   "name": "python",
   "nbconvert_exporter": "python",
   "pygments_lexer": "ipython3",
   "version": "3.11.5"
  }
 },
 "nbformat": 4,
 "nbformat_minor": 4
}
